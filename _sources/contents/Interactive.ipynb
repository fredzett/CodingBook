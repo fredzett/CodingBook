{
 "cells": [
  {
   "cell_type": "markdown",
   "metadata": {},
   "source": [
    "# Lineare Regression\n",
    "\n",
    "Dies ist nur ein Beispiel...nicht als Inhalt im Buch gedacht!"
   ]
  },
  {
   "cell_type": "markdown",
   "metadata": {},
   "source": [
    "## Importieren wichtiger Module"
   ]
  },
  {
   "cell_type": "code",
   "execution_count": 7,
   "metadata": {},
   "outputs": [],
   "source": [
    "import numpy as np \n",
    "import pandas as pd\n",
    "import seaborn as sns\n",
    "import matplotlib.pyplot as plt\n",
    "\n",
    "import scipy.stats as stats\n",
    "import statsmodels.formula.api as smf\n",
    "\n",
    "# Modules for interactivity\n",
    "from ipywidgets import interact\n",
    "import ipywidgets as widgets\n",
    "\n",
    "colors = plt.cycler(color=[\"#557A95\",   \"#957055\", \"#559570\"]) \n",
    "sns.set_context('paper', font_scale=1.4)\n",
    "plt.rcParams['figure.figsize'] = [9,6]\n",
    "plt.rcParams['savefig.dpi'] = 300\n",
    "plt.rc(\"legend\", frameon=False)\n",
    "plt.rc(\"axes.spines\", top=False, right=False)\n",
    "plt.rcParams['axes.prop_cycle'] = colors\n",
    "mycolors = colors.by_key()[\"color\"]"
   ]
  },
  {
   "cell_type": "markdown",
   "metadata": {},
   "source": [
    "## Daten simulieren"
   ]
  },
  {
   "cell_type": "code",
   "execution_count": 8,
   "metadata": {},
   "outputs": [],
   "source": [
    "n = 100\n",
    "x = np.linspace(-4,4, num=n) # make x data\n",
    "eps = stats.norm().rvs(n) # create randomness\n",
    "ytrue = 3 + 4*x + eps*5 # make y data"
   ]
  },
  {
   "cell_type": "markdown",
   "metadata": {},
   "source": [
    "## Interaktive Elemente bauen"
   ]
  },
  {
   "cell_type": "code",
   "execution_count": 10,
   "metadata": {},
   "outputs": [],
   "source": [
    "box = widgets.Checkbox(False, description=\"show errors\")\n",
    "b0 = widgets.FloatSlider(value=0, min=-10,max=10)\n",
    "b1 = widgets.FloatSlider(value=0, min=-10,max=10)\n",
    "def lreg(b0,b1, changed):\n",
    "    fig, ax = plt.subplots(figsize=(12,7))\n",
    "    sns.scatterplot(x=x, y=ytrue)\n",
    "    plt.xlabel(\"x\")\n",
    "    plt.ylabel(\"y\")\n",
    "    alpha = 0 if b0==b1==0 else 1\n",
    "    yhat = b0 + b1*x\n",
    "    sns.lineplot(x=x, y=yhat, color=\"red\", alpha=alpha,lw=3)\n",
    "    ax.set_title(\"Relation y and X\")\n",
    "    error = ytrue - yhat\n",
    "    if changed:\n",
    "        rss = np.round(np.sum(error**2)/n, 2)\n",
    "        ax.vlines(x=x, ymin=yhat, ymax=yhat+error, ls=\"--\", color=\"gray\")\n",
    "        _, ymax = ax.get_ylim()\n",
    "        xmin, _ = ax.get_xlim()\n",
    "        ax.annotate(f\"RSS: {rss}\", xy=(xmin*0.98,ymax))\n",
    "    \n",
    "    sns.despine()\n",
    "\n",
    "grid = widgets.GridspecLayout(10,6)\n",
    "grid[0,:] = widgets.HBox([b0,b1,box])\n",
    "grid[1:10,:] = widgets.interactive_output(lreg, {\"b0\":b0, \"b1\": b1, \"changed\":box})\n"
   ]
  }
 ],
 "metadata": {
  "kernelspec": {
   "display_name": "Python 3",
   "language": "python",
   "name": "python3"
  },
  "language_info": {
   "codemirror_mode": {
    "name": "ipython",
    "version": 3
   },
   "file_extension": ".py",
   "mimetype": "text/x-python",
   "name": "python",
   "nbconvert_exporter": "python",
   "pygments_lexer": "ipython3",
   "version": "3.9.7"
  },
  "widgets": {
   "application/vnd.jupyter.widget-state+json": {
    "state": {},
    "version_major": 2,
    "version_minor": 0
   }
  }
 },
 "nbformat": 4,
 "nbformat_minor": 4
}
